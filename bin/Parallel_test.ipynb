{
 "cells": [
  {
   "cell_type": "code",
   "execution_count": 1,
   "metadata": {
    "collapsed": false
   },
   "outputs": [],
   "source": [
    "import numpy as np\n",
    "import tensorflow as tf\n",
    "import models as utils\n",
    "import os.path\n",
    "import time\n",
    "import scipy.stats as stats"
   ]
  },
  {
   "cell_type": "code",
   "execution_count": 2,
   "metadata": {
    "collapsed": false
   },
   "outputs": [],
   "source": [
    "def train_models(target_protein = 'RNCMPT00158', model_type_flag = 'CNN_struct'):\n",
    "    flag = 'large'\n",
    "    num_calibs = 10\n",
    "    num_models = 10\n",
    "#     target_protein = 'RNCMPT00158'\n",
    "#     model_type_flag = 'CNN_struct'\n",
    "    target_file = '../data/rnac/npz_archives/'+str(target_protein)+'.npz'\n",
    "    if not(os.path.isfile(target_file)):\n",
    "        utils.load_data(target_id_list=[target_protein])\n",
    "    inf = np.load(target_file)\n",
    "    input_configuration = utils.input_config(flag)\n",
    "    config_list = utils.generate_configs(num_calibs, model_type_flag, flag)\n",
    "    input_data = utils.Deepbind_input(input_configuration, inf, model_type_flag)\n",
    "    models = []\n",
    "    Nbatch_train = input_data.training_cases // 100\n",
    "    pearson_test =np.zeros(num_models)\n",
    "    print(target_protein, model_type_flag)\n",
    "    with tf.Graph().as_default():\n",
    "        for i in range(num_calibs):\n",
    "            models.append(utils.Deepbind_model(config_list[i], input_data, model_type_flag))\n",
    "        start_time = time.time()\n",
    "        with tf.Session() as session:\n",
    "            session.run(tf.initialize_all_variables())\n",
    "            for epoch in range(10):\n",
    "                _ = utils.run_epoch_parallel(session, models, input_data, config_list[0], epoch, train=True)\n",
    "    #             for step in range(Nbatch_train):\n",
    "    #                 mbatchX_train = input_data.training_data[(100* step) : (100 * (step+1)),:,:]\n",
    "    #                 mbatchY_train = input_data.training_labels[(100*step):(100*(step+1))]\n",
    "    #                 feed_dict = {}\n",
    "    #                 fetches = {}\n",
    "    #                 for i in range(num_calibs):\n",
    "    #                     feed_dict[models[i].x] = mbatchX_train\n",
    "    #                     feed_dict[models[i].y_true] = mbatchY_train\n",
    "    #                     fetches[\"cost\"+str(i+1)] = models[i].cost\n",
    "    #                     fetches[\"eval_op\" +str(i+1)] = models[i].train_op\n",
    "    #     #             with tf.Session() as sess:\n",
    "    #     #                 sess.run(tf.initialize_all_variables())\n",
    "    #                 vals = sess.run(fetches, feed_dict)\n",
    "            _,_,pearson_test = utils.run_epoch_parallel(session, models, input_data, config_list[0], epoch, train=False, verbose=True, testing=True)\n",
    "    #         feed_dict = {}\n",
    "    #         fetches = {}\n",
    "    #         for i in range(num_calibs):\n",
    "    #             feed_dict[models[i].x] = input_data.test_data\n",
    "    #             feed_dict[models[i].y_true] = input_data.test_labels\n",
    "    #             fetches[\"predictions\"+str(i)] = models[i].predict_op\n",
    "    # #             fetches[\"eval_op\" +str(i+1)] = models[i].train_op\n",
    "    #         vals = sess.run(fetches, feed_dict)\n",
    "    #         for j in range(num_models):\n",
    "    # #             cost_test[j] = vals[\"cost\"+str(j)]\n",
    "    #             pearson_test[j] = stats.pearsonr(input_data.test_labels, vals[\"predictions\"+str(j)])[0]\n",
    "    #         print(pearson_test)\n",
    "        elapsed_time = time.time() - start_time\n",
    "    # print(elapsed_time)\n",
    "    return np.max(pearson_test)\n"
   ]
  },
  {
   "cell_type": "code",
   "execution_count": 3,
   "metadata": {
    "collapsed": false
   },
   "outputs": [
    {
     "name": "stdout",
     "output_type": "stream",
     "text": [
      "('RNCMPT00035', 'CNN')\n",
      "Epoch:0010, Train cost(avg)=1.0549, Test cost(avg)=1.0581, Test Pearson(avg)=0.1606\n",
      "[ 0.16077195  0.16283578  0.15966233  0.15283232  0.16439441  0.16371847\n",
      "  0.16349339  0.15204737  0.16341538  0.16265375]\n",
      "('RNCMPT00035', 'CNN_struct')\n",
      "Epoch:0010, Train cost(avg)=1.0434, Test cost(avg)=1.0481, Test Pearson(avg)=0.1830\n",
      "[ 0.20019813  0.20668191  0.18312544  0.182998    0.11191582  0.21250588\n",
      "  0.16867448  0.18327492  0.19120521  0.18972923]\n",
      "('RNCMPT00270', 'CNN')\n",
      "Epoch:0010, Train cost(avg)=0.8731, Test cost(avg)=0.8823, Test Pearson(avg)=0.1912\n",
      "[ 0.19237443  0.18603633  0.19128832  0.2033844   0.19199624  0.20248646\n",
      "  0.20304405  0.1850025   0.15876266  0.19767957]\n",
      "('RNCMPT00270', 'CNN_struct')\n",
      "Epoch:0010, Train cost(avg)=0.8739, Test cost(avg)=0.8828, Test Pearson(avg)=0.1893\n",
      "[ 0.17800095  0.20302639  0.19154477  0.19137566  0.19682547  0.17439875\n",
      "  0.19641017  0.16343555  0.19332943  0.20505879]\n",
      "('RNCMPT00085', 'CNN')\n",
      "Epoch:0010, Train cost(avg)=2.0425, Test cost(avg)=2.0327, Test Pearson(avg)=0.3188\n",
      "[ 0.35381683  0.34658187  0.26755661  0.34134106  0.33481305  0.287517\n",
      "  0.31860151  0.32942562  0.30088615  0.30781481]\n",
      "('RNCMPT00085', 'CNN_struct')\n",
      "Epoch:0010, Train cost(avg)=2.0251, Test cost(avg)=2.0195, Test Pearson(avg)=0.3243\n",
      "[ 0.36254928  0.3143474   0.34953663  0.39138863  0.32198315  0.30037844\n",
      "  0.30827732  0.27993803  0.38171666  0.23280212]\n",
      "('RNCMPT00202', 'CNN')\n",
      "Epoch:0010, Train cost(avg)=0.8294, Test cost(avg)=0.8407, Test Pearson(avg)=0.4038\n",
      "[ 0.36217804  0.46190647  0.41981872  0.41230316  0.37414083  0.40385178\n",
      "  0.41176651  0.40902821  0.37380763  0.40947506]\n",
      "('RNCMPT00202', 'CNN_struct')\n",
      "Epoch:0010, Train cost(avg)=0.7635, Test cost(avg)=0.7738, Test Pearson(avg)=0.4771\n",
      "[ 0.47109907  0.50140094  0.44222209  0.47951077  0.51437338  0.48956018\n",
      "  0.51744697  0.47650255  0.41803877  0.46040823]\n",
      "('RNCMPT00251', 'CNN')\n",
      "Epoch:0010, Train cost(avg)=1.6541, Test cost(avg)=1.6608, Test Pearson(avg)=0.1934\n",
      "[ 0.17735557  0.2164884   0.17762399  0.22651753  0.20763002  0.14981627\n",
      "  0.22298579  0.21355221  0.16448719  0.17713062]\n",
      "('RNCMPT00251', 'CNN_struct')\n",
      "Epoch:0010, Train cost(avg)=1.6428, Test cost(avg)=1.6504, Test Pearson(avg)=0.2098\n",
      "[ 0.22390006  0.19382116  0.22530533  0.22243207  0.21312898  0.20866131\n",
      "  0.15434449  0.2253212   0.23717497  0.19429475]\n",
      "('RNCMPT00154', 'CNN')\n",
      "Epoch:0010, Train cost(avg)=0.8090, Test cost(avg)=0.8140, Test Pearson(avg)=0.1750\n",
      "[ 0.16850067  0.17939288  0.16910462  0.17962282  0.18331969  0.17703911\n",
      "  0.17987567  0.16234397  0.17305539  0.17795083]\n",
      "('RNCMPT00154', 'CNN_struct')\n",
      "Epoch:0010, Train cost(avg)=0.8041, Test cost(avg)=0.8108, Test Pearson(avg)=0.1852\n",
      "[ 0.18717887  0.18434453  0.19535172  0.19333079  0.14772045  0.19150598\n",
      "  0.1869512   0.19093143  0.18071357  0.1936794 ]\n"
     ]
    }
   ],
   "source": [
    "# protein_list = ['RNCMPT00289',\n",
    "# 'RNCMPT00158',\n",
    "# 'RNCMPT00258',\n",
    "# 'RNCMPT00081',\n",
    "# 'RNCMPT00147',\n",
    "# 'RNCMPT00199',\n",
    "# protein_list=[\n",
    "# 'RNCMPT00209',\n",
    "# 'RNCMPT00095',\n",
    "# 'RNCMPT00146',\n",
    "# 'RNCMPT00149',\n",
    "# 'RNCMPT00161',\n",
    "# ]\n",
    "protein_list = [\n",
    "# 'RNCMPT00278',\n",
    "# 'RNCMPT00172',\n",
    "'RNCMPT00035',\n",
    "'RNCMPT00270',\n",
    "'RNCMPT00085',\n",
    "'RNCMPT00202',\n",
    "'RNCMPT00251',\n",
    "'RNCMPT00154',\n",
    "]\n",
    "pearson_struct = []\n",
    "pearson_nostruct = []\n",
    "for protein in protein_list:\n",
    "    pearson_test_CNN = train_models(protein, 'CNN')\n",
    "    save_target = str(protein) +'CNN.npz'\n",
    "    np.savez(save_target, pearson = pearson_test_CNN)\n",
    "    save_target = str(protein) + 'CNN_struct.npz'\n",
    "    pearson_test_CNN_struct = train_models(protein, 'CNN_struct')\n",
    "    pearson_nostruct.append(pearson_test_CNN)\n",
    "    pearson_struct.append(pearson_test_CNN_struct)"
   ]
  },
  {
   "cell_type": "code",
   "execution_count": 4,
   "metadata": {
    "collapsed": false
   },
   "outputs": [
    {
     "name": "stdout",
     "output_type": "stream",
     "text": [
      "Protein\t\tCNN\t\tCNN_s\t\tDelta\n",
      "RNCMPT00035\t\t 0.164394 \t\t 0.212506\t\t 29.27%\n",
      "RNCMPT00270\t\t 0.203384 \t\t 0.205059\t\t 0.82%\n",
      "RNCMPT00085\t\t 0.353817 \t\t 0.391389\t\t 10.62%\n",
      "RNCMPT00202\t\t 0.461906 \t\t 0.517447\t\t 12.02%\n",
      "RNCMPT00251\t\t 0.226518 \t\t 0.237175\t\t 4.70%\n",
      "RNCMPT00154\t\t 0.183320 \t\t 0.195352\t\t 6.56%\n"
     ]
    }
   ],
   "source": [
    "protein_list = [\n",
    "# 'RNCMPT00278',\n",
    "# 'RNCMPT00172',\n",
    "'RNCMPT00035',\n",
    "'RNCMPT00270',\n",
    "'RNCMPT00085',\n",
    "'RNCMPT00202',\n",
    "'RNCMPT00251',\n",
    "'RNCMPT00154',\n",
    "]\n",
    "print(\"Protein\\t\\tCNN\\t\\tCNN_s\\t\\tDelta\")\n",
    "for i in range(len(protein_list)):\n",
    "    improvement = (pearson_struct[i] - pearson_nostruct[i])*100 / (pearson_nostruct[i])\n",
    "    print(\"%s\\t\\t %.6f \\t\\t %.6f\\t\\t %.2f%%\"%(protein_list[i], pearson_nostruct[i], pearson_struct[i], improvement))"
   ]
  },
  {
   "cell_type": "code",
   "execution_count": 5,
   "metadata": {
    "collapsed": false
   },
   "outputs": [
    {
     "ename": "ValueError",
     "evalue": "too many values to unpack",
     "output_type": "error",
     "traceback": [
      "\u001b[0;31m---------------------------------------------------------------------------\u001b[0m",
      "\u001b[0;31mValueError\u001b[0m                                Traceback (most recent call last)",
      "\u001b[0;32m<ipython-input-5-cbe0a9b09384>\u001b[0m in \u001b[0;36m<module>\u001b[0;34m()\u001b[0m\n\u001b[1;32m     21\u001b[0m \u001b[0mpearson_struct\u001b[0m \u001b[0;34m=\u001b[0m \u001b[0;34m[\u001b[0m\u001b[0;34m]\u001b[0m\u001b[0;34m\u001b[0m\u001b[0m\n\u001b[1;32m     22\u001b[0m \u001b[0mpearson_nostruct\u001b[0m \u001b[0;34m=\u001b[0m \u001b[0;34m[\u001b[0m\u001b[0;34m]\u001b[0m\u001b[0;34m\u001b[0m\u001b[0m\n\u001b[0;32m---> 23\u001b[0;31m \u001b[0;32mfor\u001b[0m \u001b[0mi\u001b[0m\u001b[0;34m,\u001b[0m \u001b[0mprotein\u001b[0m \u001b[0;32min\u001b[0m \u001b[0mprotein_list\u001b[0m\u001b[0;34m:\u001b[0m\u001b[0;34m\u001b[0m\u001b[0m\n\u001b[0m\u001b[1;32m     24\u001b[0m     \u001b[0mstart_time\u001b[0m \u001b[0;34m=\u001b[0m \u001b[0mtime\u001b[0m\u001b[0;34m.\u001b[0m\u001b[0mtime\u001b[0m\u001b[0;34m(\u001b[0m\u001b[0;34m)\u001b[0m\u001b[0;34m\u001b[0m\u001b[0m\n\u001b[1;32m     25\u001b[0m     \u001b[0mpearson_nostruct\u001b[0m\u001b[0;34m.\u001b[0m\u001b[0mappend\u001b[0m\u001b[0;34m(\u001b[0m\u001b[0mtrain_models\u001b[0m\u001b[0;34m(\u001b[0m\u001b[0mprotein\u001b[0m\u001b[0;34m,\u001b[0m \u001b[0;34m'CNN'\u001b[0m\u001b[0;34m)\u001b[0m\u001b[0;34m)\u001b[0m\u001b[0;34m\u001b[0m\u001b[0m\n",
      "\u001b[0;31mValueError\u001b[0m: too many values to unpack"
     ]
    }
   ],
   "source": [
    "protein_list = ['RNCMPT00289',\n",
    "'RNCMPT00158',\n",
    "'RNCMPT00258',\n",
    "'RNCMPT00081',\n",
    "'RNCMPT00147',\n",
    "'RNCMPT00199',\n",
    "'RNCMPT00209',\n",
    "'RNCMPT00095',\n",
    "'RNCMPT00146',\n",
    "'RNCMPT00149',\n",
    "'RNCMPT00161',\n",
    "'RNCMPT00278',\n",
    "'RNCMPT00172',\n",
    "'RNCMPT00283',\n",
    "'RNCMPT00262',\n",
    "'RNCMPT00255',\n",
    "'RNCMPT00020',\n",
    "'RNCMPT00005',\n",
    "'RNCMPT00076',\n",
    "]\n",
    "pearson_struct = []\n",
    "pearson_nostruct = []\n",
    "for i, protein in protein_list:\n",
    "    start_time = time.time()\n",
    "    pearson_nostruct.append(train_models(protein, 'CNN'))\n",
    "    pearson_struct.append(train_models(protein, 'CNN_struct'))"
   ]
  }
 ],
 "metadata": {
  "kernelspec": {
   "display_name": "Python 2",
   "language": "python",
   "name": "python2"
  },
  "language_info": {
   "codemirror_mode": {
    "name": "ipython",
    "version": 2
   },
   "file_extension": ".py",
   "mimetype": "text/x-python",
   "name": "python",
   "nbconvert_exporter": "python",
   "pygments_lexer": "ipython2",
   "version": "2.7.12"
  }
 },
 "nbformat": 4,
 "nbformat_minor": 1
}
